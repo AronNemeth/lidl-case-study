{
 "cells": [
  {
   "cell_type": "code",
   "execution_count": 2,
   "id": "8437d97a",
   "metadata": {},
   "outputs": [],
   "source": [
    "import umap\n",
    "import pandas as pd\n",
    "import matplotlib.pyplot as plt\n",
    "import seaborn as sns\n",
    "from sklearn.preprocessing import StandardScaler\n",
    "from sklearn.compose import ColumnTransformer\n",
    "from sklearn.cluster import KMeans, DBSCAN, HDBSCAN\n",
    "\n",
    "from utils.visualize import plot_clusters"
   ]
  },
  {
   "cell_type": "code",
   "execution_count": 3,
   "id": "64126fea",
   "metadata": {},
   "outputs": [],
   "source": [
    "df = pd.read_csv(\"../data/candy-data.csv\")"
   ]
  },
  {
   "cell_type": "markdown",
   "id": "0d98337d",
   "metadata": {},
   "source": [
    "### Preprocess"
   ]
  },
  {
   "cell_type": "code",
   "execution_count": 4,
   "id": "8e2561f8",
   "metadata": {},
   "outputs": [],
   "source": [
    "num_cols = [\"sugarpercent\", \"pricepercent\"]\n",
    "cat_cols = [\n",
    "    \"chocolate\",\n",
    "    \"fruity\",\n",
    "    \"caramel\",\n",
    "    \"peanutyalmondy\",\n",
    "    \"nougat\",\n",
    "    \"crispedricewafer\",\n",
    "    \"hard\",\n",
    "    \"bar\",\n",
    "    \"pluribus\",\n",
    "]\n"
   ]
  },
  {
   "cell_type": "code",
   "execution_count": 5,
   "id": "9e62495e",
   "metadata": {},
   "outputs": [],
   "source": [
    "preprocessor = ColumnTransformer(\n",
    "    [(\"num\", StandardScaler(), num_cols), (\"bin\", \"passthrough\", cat_cols)]\n",
    ")"
   ]
  },
  {
   "cell_type": "code",
   "execution_count": 6,
   "id": "6a2ff61b",
   "metadata": {},
   "outputs": [],
   "source": [
    "X_preprocessed = preprocessor.fit_transform(df[num_cols + cat_cols])"
   ]
  },
  {
   "cell_type": "markdown",
   "id": "4e600eb4",
   "metadata": {},
   "source": [
    "## Clustering"
   ]
  },
  {
   "cell_type": "markdown",
   "id": "868ba395",
   "metadata": {},
   "source": [
    "### K-means"
   ]
  },
  {
   "cell_type": "code",
   "execution_count": 7,
   "id": "581b70e1",
   "metadata": {},
   "outputs": [],
   "source": [
    "k = 3\n",
    "kmeans = KMeans(n_clusters=k, random_state=42)\n",
    "kmeans_labels = kmeans.fit_predict(X_preprocessed)\n",
    "\n",
    "df[\"kmeans_cluster\"] = kmeans_labels"
   ]
  },
  {
   "cell_type": "markdown",
   "id": "45ff0f72",
   "metadata": {},
   "source": [
    "### DBSCAN"
   ]
  },
  {
   "cell_type": "code",
   "execution_count": 8,
   "id": "e190cd62",
   "metadata": {},
   "outputs": [
    {
     "name": "stdout",
     "output_type": "stream",
     "text": [
      "Number of HDBSCAN clusters: 4\n",
      "Number of noise points: 22\n"
     ]
    }
   ],
   "source": [
    "dbscan = DBSCAN(eps=1.2, min_samples=5)\n",
    "dbscan_labels = dbscan.fit_predict(X_preprocessed)\n",
    "\n",
    "print(\n",
    "    f\"Number of HDBSCAN clusters: {len(set(dbscan_labels)) - (1 if -1 in dbscan_labels else 0)}\"\n",
    ")\n",
    "print(f\"Number of noise points: {list(dbscan_labels).count(-1)}\")\n",
    "\n",
    "df[\"dbscan_cluster\"] = dbscan_labels"
   ]
  },
  {
   "cell_type": "markdown",
   "id": "0c6f8c92",
   "metadata": {},
   "source": [
    "### HDBSCAN"
   ]
  },
  {
   "cell_type": "code",
   "execution_count": 9,
   "id": "fba7b310",
   "metadata": {},
   "outputs": [
    {
     "name": "stdout",
     "output_type": "stream",
     "text": [
      "Number of HDBSCAN clusters: 5\n",
      "Number of noise points: 49\n"
     ]
    }
   ],
   "source": [
    "hdbscan = HDBSCAN(min_cluster_size=5, min_samples=3, cluster_selection_epsilon=0.5)\n",
    "hdbscan_labels = hdbscan.fit_predict(X_preprocessed)\n",
    "\n",
    "print(\n",
    "    f\"Number of HDBSCAN clusters: {len(set(hdbscan_labels)) - (1 if -1 in hdbscan_labels else 0)}\"\n",
    ")\n",
    "print(f\"Number of noise points: {list(hdbscan_labels).count(-1)}\")\n",
    "\n",
    "df[\"hdbscan_cluster\"] = hdbscan_labels"
   ]
  },
  {
   "cell_type": "markdown",
   "id": "5a2711b9",
   "metadata": {},
   "source": [
    "## Visualize / interpret clusters"
   ]
  },
  {
   "cell_type": "markdown",
   "id": "69cbccdc",
   "metadata": {},
   "source": [
    "### Apply umap"
   ]
  },
  {
   "cell_type": "code",
   "execution_count": 10,
   "id": "b39a80ac",
   "metadata": {},
   "outputs": [
    {
     "name": "stderr",
     "output_type": "stream",
     "text": [
      "c:\\Users\\aronn\\repos\\lidl-case-study\\.venv\\Lib\\site-packages\\umap\\umap_.py:1952: UserWarning: n_jobs value 1 overridden to 1 by setting random_state. Use no seed for parallelism.\n",
      "  warn(\n"
     ]
    }
   ],
   "source": [
    "reducer = umap.UMAP(random_state=42)\n",
    "X_2d = reducer.fit_transform(X_preprocessed)"
   ]
  },
  {
   "cell_type": "markdown",
   "id": "a89032e2",
   "metadata": {},
   "source": [
    "### k-means clusters"
   ]
  },
  {
   "cell_type": "code",
   "execution_count": 11,
   "id": "fb541e90",
   "metadata": {},
   "outputs": [
    {
     "data": {
      "text/html": [
       "<div>\n",
       "<style scoped>\n",
       "    .dataframe tbody tr th:only-of-type {\n",
       "        vertical-align: middle;\n",
       "    }\n",
       "\n",
       "    .dataframe tbody tr th {\n",
       "        vertical-align: top;\n",
       "    }\n",
       "\n",
       "    .dataframe thead th {\n",
       "        text-align: right;\n",
       "    }\n",
       "</style>\n",
       "<table border=\"1\" class=\"dataframe\">\n",
       "  <thead>\n",
       "    <tr style=\"text-align: right;\">\n",
       "      <th></th>\n",
       "      <th>winpercent</th>\n",
       "      <th>sugarpercent</th>\n",
       "      <th>pricepercent</th>\n",
       "      <th>chocolate</th>\n",
       "      <th>fruity</th>\n",
       "      <th>caramel</th>\n",
       "      <th>peanutyalmondy</th>\n",
       "      <th>nougat</th>\n",
       "      <th>crispedricewafer</th>\n",
       "      <th>hard</th>\n",
       "      <th>bar</th>\n",
       "      <th>pluribus</th>\n",
       "    </tr>\n",
       "    <tr>\n",
       "      <th>kmeans_cluster</th>\n",
       "      <th></th>\n",
       "      <th></th>\n",
       "      <th></th>\n",
       "      <th></th>\n",
       "      <th></th>\n",
       "      <th></th>\n",
       "      <th></th>\n",
       "      <th></th>\n",
       "      <th></th>\n",
       "      <th></th>\n",
       "      <th></th>\n",
       "      <th></th>\n",
       "    </tr>\n",
       "  </thead>\n",
       "  <tbody>\n",
       "    <tr>\n",
       "      <th>0</th>\n",
       "      <td>44.33</td>\n",
       "      <td>0.17</td>\n",
       "      <td>0.23</td>\n",
       "      <td>0.21</td>\n",
       "      <td>0.57</td>\n",
       "      <td>0.11</td>\n",
       "      <td>0.07</td>\n",
       "      <td>0.00</td>\n",
       "      <td>0.00</td>\n",
       "      <td>0.18</td>\n",
       "      <td>0.00</td>\n",
       "      <td>0.61</td>\n",
       "    </tr>\n",
       "    <tr>\n",
       "      <th>1</th>\n",
       "      <td>59.97</td>\n",
       "      <td>0.57</td>\n",
       "      <td>0.74</td>\n",
       "      <td>0.91</td>\n",
       "      <td>0.06</td>\n",
       "      <td>0.27</td>\n",
       "      <td>0.36</td>\n",
       "      <td>0.21</td>\n",
       "      <td>0.21</td>\n",
       "      <td>0.03</td>\n",
       "      <td>0.64</td>\n",
       "      <td>0.24</td>\n",
       "    </tr>\n",
       "    <tr>\n",
       "      <th>2</th>\n",
       "      <td>44.02</td>\n",
       "      <td>0.72</td>\n",
       "      <td>0.38</td>\n",
       "      <td>0.04</td>\n",
       "      <td>0.83</td>\n",
       "      <td>0.08</td>\n",
       "      <td>0.00</td>\n",
       "      <td>0.00</td>\n",
       "      <td>0.00</td>\n",
       "      <td>0.38</td>\n",
       "      <td>0.00</td>\n",
       "      <td>0.79</td>\n",
       "    </tr>\n",
       "  </tbody>\n",
       "</table>\n",
       "</div>"
      ],
      "text/plain": [
       "                winpercent  sugarpercent  pricepercent  chocolate  fruity  \\\n",
       "kmeans_cluster                                                              \n",
       "0                    44.33          0.17          0.23       0.21    0.57   \n",
       "1                    59.97          0.57          0.74       0.91    0.06   \n",
       "2                    44.02          0.72          0.38       0.04    0.83   \n",
       "\n",
       "                caramel  peanutyalmondy  nougat  crispedricewafer  hard   bar  \\\n",
       "kmeans_cluster                                                                  \n",
       "0                  0.11            0.07    0.00              0.00  0.18  0.00   \n",
       "1                  0.27            0.36    0.21              0.21  0.03  0.64   \n",
       "2                  0.08            0.00    0.00              0.00  0.38  0.00   \n",
       "\n",
       "                pluribus  \n",
       "kmeans_cluster            \n",
       "0                   0.61  \n",
       "1                   0.24  \n",
       "2                   0.79  "
      ]
     },
     "execution_count": 11,
     "metadata": {},
     "output_type": "execute_result"
    }
   ],
   "source": [
    "df.groupby(\"kmeans_cluster\")[[\"winpercent\"] + num_cols + cat_cols].mean().round(2)"
   ]
  },
  {
   "cell_type": "code",
   "execution_count": 12,
   "id": "3f59588d",
   "metadata": {},
   "outputs": [
    {
     "data": {
      "image/png": "[encoded data removed]",
      "text/plain": [
       "<Figure size 1000x700 with 1 Axes>"
      ]
     },
     "metadata": {},
     "output_type": "display_data"
    }
   ],
   "source": [
    "plot_clusters(X_2d, df[\"kmeans_cluster\"], title=\"K-means clusters visualized with UMAP\")"
   ]
  }
 ],
 "metadata": {
  "kernelspec": {
   "display_name": "lidl-case-study",
   "language": "python",
   "name": "python3"
  },
  "language_info": {
   "codemirror_mode": {
    "name": "ipython",
    "version": 3
   },
   "file_extension": ".py",
   "mimetype": "text/x-python",
   "name": "python",
   "nbconvert_exporter": "python",
   "pygments_lexer": "ipython3",
   "version": "3.12.2"
  }
 },
 "nbformat": 4,
 "nbformat_minor": 5
}
